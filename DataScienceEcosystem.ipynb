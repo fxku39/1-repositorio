{
 "cells": [
  {
   "cell_type": "markdown",
   "id": "d62922fc-8fec-4e06-87e6-7ebd971e7c26",
   "metadata": {},
   "source": [
    "# Data Science Tools and Ecosystems"
   ]
  },
  {
   "cell_type": "markdown",
   "id": "dae7f03a-b2d4-4fa0-be3b-6de6a57599f4",
   "metadata": {},
   "source": [
    "## In this notebook, Data Science Tools and Ecosystems are summarized."
   ]
  },
  {
   "cell_type": "markdown",
   "id": "02eeaf46-3614-4c82-a4f9-273217e6be0c",
   "metadata": {},
   "source": [
    "## **Objectives:**\n",
    "* List popular languages for Data Science.\n",
    "* List popular libraries for Data Science.\n",
    "* List common used tools for Data Science.\n",
    "* Examples of evaluating arithmetic expressions in Python"
   ]
  },
  {
   "cell_type": "markdown",
   "id": "1d5f7f06-6197-4876-83fc-8293e4648f25",
   "metadata": {},
   "source": [
    "## Some of the popular languages that Data Scientist use are:\n",
    "1. Python\n",
    "2. SQL\n",
    "3. R\n",
    "  "
   ]
  },
  {
   "cell_type": "markdown",
   "id": "976eeeaf-4a7e-470d-9482-c3d016e760be",
   "metadata": {},
   "source": [
    "## Some of the commonly used libraries used by Data Scientist include:\n",
    "1. Panda\n",
    "2. Numpy\n",
    "3. Matplotlib\n"
   ]
  },
  {
   "cell_type": "markdown",
   "id": "4f6e55dd-dcfa-41ff-a683-059c09e1c28f",
   "metadata": {},
   "source": [
    "| Data Science Tools |  \n",
    "|--------------------|\n",
    "| Microsoft Visual Studio |  \n",
    "| R Studio |  \n",
    "| Spider |  "
   ]
  },
  {
   "cell_type": "markdown",
   "id": "b0cea789-c9e1-4293-ae29-27f3cc4ce152",
   "metadata": {},
   "source": [
    "### Below are a few examples of evaluating arithmetic expressions in Python"
   ]
  },
  {
   "cell_type": "code",
   "execution_count": 5,
   "id": "94b52bff-aca8-4374-ac6d-bbdaa5543aa3",
   "metadata": {},
   "outputs": [
    {
     "data": {
      "text/plain": [
       "17"
      ]
     },
     "execution_count": 5,
     "metadata": {},
     "output_type": "execute_result"
    }
   ],
   "source": [
    "# This a simple arithmetic expression to mutiply then add integers\n",
    "(3*4)+5"
   ]
  },
  {
   "cell_type": "code",
   "execution_count": 6,
   "id": "5b5e98e9-97a3-4f50-bda5-b42ec2f7e7d9",
   "metadata": {},
   "outputs": [
    {
     "data": {
      "text/plain": [
       "3.3333333333333335"
      ]
     },
     "execution_count": 6,
     "metadata": {},
     "output_type": "execute_result"
    }
   ],
   "source": [
    "#This will convert 200 minutes to hours by diving by 60  \n",
    "200/60\n"
   ]
  },
  {
   "cell_type": "markdown",
   "id": "b5400b5c-6490-4d0c-aa5d-37e4e8eafc1c",
   "metadata": {},
   "source": [
    "## Author\n",
    "### Facundo Emmanuel Aguirre"
   ]
  }
 ],
 "metadata": {
  "kernelspec": {
   "display_name": "Python 3 (ipykernel)",
   "language": "python",
   "name": "python3"
  },
  "language_info": {
   "codemirror_mode": {
    "name": "ipython",
    "version": 3
   },
   "file_extension": ".py",
   "mimetype": "text/x-python",
   "name": "python",
   "nbconvert_exporter": "python",
   "pygments_lexer": "ipython3",
   "version": "3.12.4"
  }
 },
 "nbformat": 4,
 "nbformat_minor": 5
}
